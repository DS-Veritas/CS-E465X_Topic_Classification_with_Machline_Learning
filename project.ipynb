{
 "cells": [
  {
   "cell_type": "code",
   "execution_count": 1,
   "id": "4e848978-eeae-4793-ba60-b3ae1b60a403",
   "metadata": {},
   "outputs": [],
   "source": [
    "import numpy as np\n",
    "import pandas as pd\n",
    "from sklearn.cluster import KMeans\n",
    "from sklearn.metrics.cluster import normalized_mutual_info_score\n",
    "from sklearn.feature_extraction.text import TfidfVectorizer\n",
    "from sklearn.decomposition import TruncatedSVD\n",
    "from sklearn.preprocessing import Normalizer\n",
    "from sklearn.pipeline import make_pipeline\n",
    "from sklearn.cluster import AgglomerativeClustering\n",
    "\n",
    "import warnings\n",
    "\n",
    "from pandas.core.common import SettingWithCopyWarning\n",
    "\n",
    "warnings.simplefilter(action=\"ignore\", category=SettingWithCopyWarning)\n",
    "\n",
    "from nltk.tokenize import word_tokenize\n",
    "from nltk.corpus import stopwords\n",
    "import nltk\n",
    "import collections"
   ]
  },
  {
   "cell_type": "markdown",
   "id": "f6e5bb48-2849-4ad1-b83e-9962ee071527",
   "metadata": {},
   "source": [
    "## Load the data"
   ]
  },
  {
   "cell_type": "code",
   "execution_count": 2,
   "id": "ac811bb7-e250-41fb-9a86-0272b3ffbc86",
   "metadata": {},
   "outputs": [
    {
     "data": {
      "text/html": [
       "<div>\n",
       "<style scoped>\n",
       "    .dataframe tbody tr th:only-of-type {\n",
       "        vertical-align: middle;\n",
       "    }\n",
       "\n",
       "    .dataframe tbody tr th {\n",
       "        vertical-align: top;\n",
       "    }\n",
       "\n",
       "    .dataframe thead th {\n",
       "        text-align: right;\n",
       "    }\n",
       "</style>\n",
       "<table border=\"1\" class=\"dataframe\">\n",
       "  <thead>\n",
       "    <tr style=\"text-align: right;\">\n",
       "      <th></th>\n",
       "      <th>id</th>\n",
       "      <th>class</th>\n",
       "      <th>title</th>\n",
       "      <th>abstract</th>\n",
       "    </tr>\n",
       "  </thead>\n",
       "  <tbody>\n",
       "    <tr>\n",
       "      <th>0</th>\n",
       "      <td>id2</td>\n",
       "      <td>1</td>\n",
       "      <td>Person re-identification with deep kronecker-p...</td>\n",
       "      <td>Person re-identification (re-ID) aims to robus...</td>\n",
       "    </tr>\n",
       "    <tr>\n",
       "      <th>1</th>\n",
       "      <td>id3</td>\n",
       "      <td>1</td>\n",
       "      <td>Crack detection in images of masonry using cnns</td>\n",
       "      <td>While there is a significant body of research ...</td>\n",
       "    </tr>\n",
       "    <tr>\n",
       "      <th>2</th>\n",
       "      <td>id4</td>\n",
       "      <td>5</td>\n",
       "      <td>Towards an energy efficient code generator for...</td>\n",
       "      <td>Using a smartphone become the part of our ever...</td>\n",
       "    </tr>\n",
       "    <tr>\n",
       "      <th>3</th>\n",
       "      <td>id5</td>\n",
       "      <td>5</td>\n",
       "      <td>Sub-polyhedral scheduling using (Unit-)two-var...</td>\n",
       "      <td>Polyhedral compilation has been successful in ...</td>\n",
       "    </tr>\n",
       "    <tr>\n",
       "      <th>4</th>\n",
       "      <td>id6</td>\n",
       "      <td>2</td>\n",
       "      <td>Extracting multiple viewpoint models from rela...</td>\n",
       "      <td>Much time in process mining projects is spent ...</td>\n",
       "    </tr>\n",
       "  </tbody>\n",
       "</table>\n",
       "</div>"
      ],
      "text/plain": [
       "    id  class                                              title  \\\n",
       "0  id2      1  Person re-identification with deep kronecker-p...   \n",
       "1  id3      1    Crack detection in images of masonry using cnns   \n",
       "2  id4      5  Towards an energy efficient code generator for...   \n",
       "3  id5      5  Sub-polyhedral scheduling using (Unit-)two-var...   \n",
       "4  id6      2  Extracting multiple viewpoint models from rela...   \n",
       "\n",
       "                                            abstract  \n",
       "0  Person re-identification (re-ID) aims to robus...  \n",
       "1  While there is a significant body of research ...  \n",
       "2  Using a smartphone become the part of our ever...  \n",
       "3  Polyhedral compilation has been successful in ...  \n",
       "4  Much time in process mining projects is spent ...  "
      ]
     },
     "execution_count": 2,
     "metadata": {},
     "output_type": "execute_result"
    }
   ],
   "source": [
    "df = pd.read_csv(\"abstractdata5.csv\", sep=\"#\")\n",
    "df.columns = [\"id\", \"class\", \"title\", \"abstract\"]\n",
    "df.head(5)"
   ]
  },
  {
   "cell_type": "markdown",
   "id": "1d3d9b32-c7e2-4a39-8864-de152f47de94",
   "metadata": {},
   "source": [
    "### Combine the title with abstract, and lower case the sentences:"
   ]
  },
  {
   "cell_type": "code",
   "execution_count": 3,
   "id": "ddb6b13a-ebde-4f69-84a6-74dba705c624",
   "metadata": {},
   "outputs": [],
   "source": [
    "df[\"TitleWithAbstract\"] = df[\"title\"] + \" \" + df[\"abstract\"]\n",
    "df[\"TitleWithAbstract\"] = df[\"TitleWithAbstract\"].str.lower()"
   ]
  },
  {
   "cell_type": "markdown",
   "id": "b9568f6d-c52a-45ad-b21c-7abbfbe56adb",
   "metadata": {},
   "source": [
    "### Remove the stopwords:"
   ]
  },
  {
   "cell_type": "code",
   "execution_count": 4,
   "id": "34f5ce3f-c68f-49a7-a58a-3c03ddd2e461",
   "metadata": {},
   "outputs": [],
   "source": [
    "stop_words = set(stopwords.words('english'))\n",
    "punctuation_tokenizer = nltk.RegexpTokenizer(r\"\\w+\")\n",
    "\n",
    "df[\"tokenized\"] = df[\"TitleWithAbstract\"].apply(lambda x: punctuation_tokenizer.tokenize(x))"
   ]
  },
  {
   "cell_type": "code",
   "execution_count": 5,
   "id": "05cbbe71-b380-45b2-8500-e8581bb53a54",
   "metadata": {},
   "outputs": [],
   "source": [
    "df[\"non_stop_words\"] = \"\""
   ]
  },
  {
   "cell_type": "code",
   "execution_count": 6,
   "id": "7b695c05-788c-4d75-911a-fb4a4fe21c88",
   "metadata": {},
   "outputs": [],
   "source": [
    "for idx, row in df.iterrows():\n",
    "    # Get the sentence\n",
    "    token_sentence = row[\"tokenized\"]\n",
    "    filter_sentence = []\n",
    "    for word in token_sentence:\n",
    "        if word.lower() not in stop_words:\n",
    "            filter_sentence.append(word)\n",
    "            \n",
    "    # Reappend to the dataframe\n",
    "    df[\"non_stop_words\"][idx] = filter_sentence"
   ]
  },
  {
   "cell_type": "markdown",
   "id": "f993ed18-7676-4869-86e2-4cdbadd19ae5",
   "metadata": {},
   "source": [
    "### Stem remaining words"
   ]
  },
  {
   "cell_type": "code",
   "execution_count": 7,
   "id": "4ff5a9c7-7abd-4f26-ad37-443a63f70915",
   "metadata": {},
   "outputs": [],
   "source": [
    "df[\"stemmed\"] = \"\""
   ]
  },
  {
   "cell_type": "code",
   "execution_count": 8,
   "id": "61e98e81-dc0e-4155-8950-cea7b2844c70",
   "metadata": {},
   "outputs": [],
   "source": [
    "from nltk.stem import WordNetLemmatizer\n",
    "\n",
    "snowball_stemmer = WordNetLemmatizer()\n",
    "\n",
    "for idx, row in df.iterrows():\n",
    "    non_stop_words = row[\"non_stop_words\"]\n",
    "    stemmed_words = []\n",
    "    for word in non_stop_words:\n",
    "        stemmed = snowball_stemmer.lemmatize(word)\n",
    "        stemmed_words.append(stemmed)\n",
    "    # Reappend to the dataframe\n",
    "    df[\"stemmed\"][idx] = stemmed_words"
   ]
  },
  {
   "cell_type": "code",
   "execution_count": 9,
   "id": "20db9408-2b81-4ee0-bd2d-07d17d8d066e",
   "metadata": {},
   "outputs": [],
   "source": [
    "from nltk.stem import SnowballStemmer\n",
    "\n",
    "snowball_stemmer = SnowballStemmer(\"english\")\n",
    "\n",
    "for idx, row in df.iterrows():\n",
    "    non_stop_words = row[\"non_stop_words\"]\n",
    "    stemmed_words = []\n",
    "    for word in non_stop_words:\n",
    "        stemmed = snowball_stemmer.stem(word)\n",
    "        stemmed_words.append(stemmed)\n",
    "    # Reappend to the dataframe\n",
    "    df[\"stemmed\"][idx] = stemmed_words"
   ]
  },
  {
   "cell_type": "code",
   "execution_count": 10,
   "id": "bda57467-7ea1-4a0f-8f46-a9242643b85d",
   "metadata": {},
   "outputs": [
    {
     "data": {
      "text/html": [
       "<div>\n",
       "<style scoped>\n",
       "    .dataframe tbody tr th:only-of-type {\n",
       "        vertical-align: middle;\n",
       "    }\n",
       "\n",
       "    .dataframe tbody tr th {\n",
       "        vertical-align: top;\n",
       "    }\n",
       "\n",
       "    .dataframe thead th {\n",
       "        text-align: right;\n",
       "    }\n",
       "</style>\n",
       "<table border=\"1\" class=\"dataframe\">\n",
       "  <thead>\n",
       "    <tr style=\"text-align: right;\">\n",
       "      <th></th>\n",
       "      <th>id</th>\n",
       "      <th>class</th>\n",
       "      <th>stemmed</th>\n",
       "    </tr>\n",
       "  </thead>\n",
       "  <tbody>\n",
       "    <tr>\n",
       "      <th>0</th>\n",
       "      <td>id2</td>\n",
       "      <td>1</td>\n",
       "      <td>[person, identif, deep, kroneck, product, matc...</td>\n",
       "    </tr>\n",
       "    <tr>\n",
       "      <th>1</th>\n",
       "      <td>id3</td>\n",
       "      <td>1</td>\n",
       "      <td>[crack, detect, imag, masonri, use, cnns, sign...</td>\n",
       "    </tr>\n",
       "    <tr>\n",
       "      <th>2</th>\n",
       "      <td>id4</td>\n",
       "      <td>5</td>\n",
       "      <td>[toward, energi, effici, code, generat, mobil,...</td>\n",
       "    </tr>\n",
       "    <tr>\n",
       "      <th>3</th>\n",
       "      <td>id5</td>\n",
       "      <td>5</td>\n",
       "      <td>[sub, polyhedr, schedul, use, unit, two, varia...</td>\n",
       "    </tr>\n",
       "    <tr>\n",
       "      <th>4</th>\n",
       "      <td>id6</td>\n",
       "      <td>2</td>\n",
       "      <td>[extract, multipl, viewpoint, model, relat, da...</td>\n",
       "    </tr>\n",
       "    <tr>\n",
       "      <th>...</th>\n",
       "      <td>...</td>\n",
       "      <td>...</td>\n",
       "      <td>...</td>\n",
       "    </tr>\n",
       "    <tr>\n",
       "      <th>1326</th>\n",
       "      <td>id1328</td>\n",
       "      <td>1</td>\n",
       "      <td>[colorimetr, point, care, paper, base, sensor,...</td>\n",
       "    </tr>\n",
       "    <tr>\n",
       "      <th>1327</th>\n",
       "      <td>id1329</td>\n",
       "      <td>1</td>\n",
       "      <td>[calcium, identif, score, base, echocardiograp...</td>\n",
       "    </tr>\n",
       "    <tr>\n",
       "      <th>1328</th>\n",
       "      <td>id1330</td>\n",
       "      <td>1</td>\n",
       "      <td>[consid, filter, import, irreplac, filter, pru...</td>\n",
       "    </tr>\n",
       "    <tr>\n",
       "      <th>1329</th>\n",
       "      <td>id1331</td>\n",
       "      <td>4</td>\n",
       "      <td>[low, complex, bit, serial, sequenti, polynomi...</td>\n",
       "    </tr>\n",
       "    <tr>\n",
       "      <th>1330</th>\n",
       "      <td>id1332</td>\n",
       "      <td>5</td>\n",
       "      <td>[prevent, revers, engin, threat, java, use, by...</td>\n",
       "    </tr>\n",
       "  </tbody>\n",
       "</table>\n",
       "<p>1331 rows × 3 columns</p>\n",
       "</div>"
      ],
      "text/plain": [
       "          id  class                                            stemmed\n",
       "0        id2      1  [person, identif, deep, kroneck, product, matc...\n",
       "1        id3      1  [crack, detect, imag, masonri, use, cnns, sign...\n",
       "2        id4      5  [toward, energi, effici, code, generat, mobil,...\n",
       "3        id5      5  [sub, polyhedr, schedul, use, unit, two, varia...\n",
       "4        id6      2  [extract, multipl, viewpoint, model, relat, da...\n",
       "...      ...    ...                                                ...\n",
       "1326  id1328      1  [colorimetr, point, care, paper, base, sensor,...\n",
       "1327  id1329      1  [calcium, identif, score, base, echocardiograp...\n",
       "1328  id1330      1  [consid, filter, import, irreplac, filter, pru...\n",
       "1329  id1331      4  [low, complex, bit, serial, sequenti, polynomi...\n",
       "1330  id1332      5  [prevent, revers, engin, threat, java, use, by...\n",
       "\n",
       "[1331 rows x 3 columns]"
      ]
     },
     "execution_count": 10,
     "metadata": {},
     "output_type": "execute_result"
    }
   ],
   "source": [
    "# For tf-idf calculation\n",
    "stemmed_df = df[[\"id\", \"class\", \"stemmed\"]]\n",
    "stemmed_df"
   ]
  },
  {
   "cell_type": "code",
   "execution_count": 11,
   "id": "a424dcb3-e60d-44f7-be58-071dc7501a14",
   "metadata": {},
   "outputs": [],
   "source": [
    "stemmed_df[\"sentence\"] = \"\""
   ]
  },
  {
   "cell_type": "code",
   "execution_count": 12,
   "id": "3c3c7926-4699-4d5b-a729-893e850e98b6",
   "metadata": {},
   "outputs": [],
   "source": [
    "for idx, row in stemmed_df.iterrows():\n",
    "    tokens = row[\"stemmed\"]\n",
    "    sentences = \" \".join(w for w in tokens)\n",
    "    stemmed_df.loc[idx, \"sentence\"] = sentences"
   ]
  },
  {
   "cell_type": "markdown",
   "id": "18006ee4-8b0c-4345-851b-2e2502378af2",
   "metadata": {},
   "source": [
    "## K-Means modeling:"
   ]
  },
  {
   "cell_type": "markdown",
   "id": "f64aa755-e56a-4ad7-8027-0c19087f48e7",
   "metadata": {},
   "source": [
    "### Naive K-Means"
   ]
  },
  {
   "cell_type": "code",
   "execution_count": 14,
   "id": "ce8bd77e-5e17-4b53-9e83-a16a209fd6c3",
   "metadata": {},
   "outputs": [
    {
     "name": "stdout",
     "output_type": "stream",
     "text": [
      "K-Means with Tfidf (without n_gram or other parameter modifications)\n",
      "NMI: 0.6634\n"
     ]
    }
   ],
   "source": [
    "ground_truth_labels = df[\"class\"]\n",
    "\n",
    "tfidf = TfidfVectorizer(\n",
    "    stop_words = 'english'\n",
    ")\n",
    "text = tfidf.fit_transform(stemmed_df.sentence)\n",
    "#representation[n_gram] = text\n",
    "\n",
    "# Initialize the KMeans\n",
    "clusters = KMeans(n_clusters=5, random_state=42).fit_predict(text)\n",
    "\n",
    "# Calculate NMI\n",
    "nmi_average = normalized_mutual_info_score(ground_truth_labels, clusters, average_method = \"geometric\")\n",
    "nmi_average = round(nmi_average, 4)\n",
    "\n",
    "print(\"K-Means with Tfidf (without n_gram or other parameter modifications)\")\n",
    "print(\"NMI: {}\".format(nmi_average))"
   ]
  },
  {
   "cell_type": "markdown",
   "id": "60e27e4d-e9e9-4043-8b11-0835201aa7e7",
   "metadata": {},
   "source": [
    "### K-Means with LSA"
   ]
  },
  {
   "cell_type": "code",
   "execution_count": 16,
   "id": "00666b32-c8d4-4301-b85c-29f4cd6d19e2",
   "metadata": {},
   "outputs": [
    {
     "name": "stdout",
     "output_type": "stream",
     "text": [
      "K-Means with LSA:\n",
      "Threshold 10\n",
      "NMI (1, 1): 0.8203\n",
      "NMI (1, 2): 0.8166\n",
      "NMI (1, 3): 0.8138\n",
      "NMI (2, 2): 0.3973\n",
      "NMI (2, 3): 0.4087\n",
      "NMI (3, 3): 0.1832\n",
      "\n",
      "Threshold 15\n",
      "NMI (1, 1): 0.8121\n",
      "NMI (1, 2): 0.8122\n",
      "NMI (1, 3): 0.8051\n",
      "NMI (2, 2): 0.3163\n",
      "NMI (2, 3): 0.2952\n",
      "NMI (3, 3): 0.1388\n",
      "\n",
      "Threshold 20\n",
      "NMI (1, 1): 0.8114\n",
      "NMI (1, 2): 0.8136\n",
      "NMI (1, 3): 0.8149\n",
      "NMI (2, 2): 0.2324\n",
      "NMI (2, 3): 0.2522\n",
      "NMI (3, 3): 0.1706\n",
      "\n"
     ]
    }
   ],
   "source": [
    "possible_ngram = [(1,1), (1,2), (1,3), (2,2), (2,3), (3,3)]\n",
    "ground_truth_labels = df[\"class\"]\n",
    "\n",
    "\n",
    "nmi = collections.defaultdict(dict)\n",
    "tf_idf = collections.defaultdict(dict)\n",
    "k_means = collections.defaultdict(dict)\n",
    "hierarchical = collections.defaultdict(dict)\n",
    "tfidf_matrix = collections.defaultdict(dict)\n",
    "\n",
    "\n",
    "threshold = [10,15,20]\n",
    "\n",
    "print(\"K-Means with LSA:\")\n",
    "for i in threshold:\n",
    "    print(\"Threshold {}\".format(i))\n",
    "    for n_gram in possible_ngram:\n",
    "        tfidf = TfidfVectorizer(\n",
    "            stop_words = 'english', min_df = i, ngram_range = n_gram, sublinear_tf=True\n",
    "        )\n",
    "        text = tfidf.fit_transform(stemmed_df.sentence)\n",
    "        #representation[n_gram] = text\n",
    "\n",
    "        svd = TruncatedSVD(n_components = 5)\n",
    "        normalizer = Normalizer(copy=False)\n",
    "        lsa = make_pipeline(svd, normalizer)\n",
    "\n",
    "        text_transformed = lsa.fit_transform(text)\n",
    "\n",
    "        clusters = KMeans(n_clusters=5, random_state=42).fit_predict(text_transformed)\n",
    "        \n",
    "        #cluster = AgglomerativeClustering(n_clusters=5, affinity='euclidean', linkage='ward', compute_distances=True)\n",
    "        #predictions = cluster.fit_predict(text.toarray())\n",
    "        \n",
    "        nmi_average = normalized_mutual_info_score(ground_truth_labels, clusters, average_method = \"geometric\")\n",
    "        nmi_average = round(nmi_average, 4)\n",
    "        #nmi_average = normalized_mutual_info_score(ground_truth_labels, clusters, average_method = \"geometric\")\n",
    "        nmi[i][n_gram] = nmi_average\n",
    "        #k_means[n_gram] = clusters\n",
    "        #hierarchical[i][n_gram] = cluster\n",
    "        tf_idf[i][n_gram] = tfidf\n",
    "        tfidf_matrix[i][n_gram] = text\n",
    "            \n",
    "        print(\"NMI {}: {}\".format(n_gram, nmi_average))\n",
    "    print()"
   ]
  },
  {
   "cell_type": "code",
   "execution_count": 18,
   "id": "a2dec650-66df-4fe9-8b0c-3d5338cf9ef0",
   "metadata": {},
   "outputs": [
    {
     "name": "stdout",
     "output_type": "stream",
     "text": [
      "K-Means with improved tfidf(with n-gram, min_df, and sublinear_tf modifications)\n",
      "Threshold 10\n",
      "NMI (1, 1): 0.8088\n",
      "NMI (1, 2): 0.8176\n",
      "NMI (1, 3): 0.8108\n",
      "NMI (2, 2): 0.4178\n",
      "NMI (2, 3): 0.3293\n",
      "NMI (3, 3): 0.138\n",
      "\n",
      "Threshold 20\n",
      "NMI (1, 1): 0.8339\n",
      "NMI (1, 2): 0.8187\n",
      "NMI (1, 3): 0.8162\n",
      "NMI (2, 2): 0.3234\n",
      "NMI (2, 3): 0.3217\n",
      "NMI (3, 3): 0.1398\n",
      "\n",
      "Threshold 30\n",
      "NMI (1, 1): 0.8251\n",
      "NMI (1, 2): 0.8132\n",
      "NMI (1, 3): 0.8092\n",
      "NMI (2, 2): 0.2808\n",
      "NMI (2, 3): 0.2826\n",
      "NMI (3, 3): 0.122\n",
      "\n"
     ]
    },
    {
     "name": "stderr",
     "output_type": "stream",
     "text": [
      "C:\\Users\\k64102259\\Anaconda3\\lib\\site-packages\\sklearn\\cluster\\_kmeans.py:1077: ConvergenceWarning: Number of distinct clusters (3) found smaller than n_clusters (5). Possibly due to duplicate points in X.\n",
      "  return self.fit(X, sample_weight=sample_weight).labels_\n"
     ]
    }
   ],
   "source": [
    "possible_ngram = [(1,1), (1,2), (1,3), (2,2), (2,3), (3,3)]\n",
    "ground_truth_labels = df[\"class\"]\n",
    "\n",
    "import collections\n",
    "nmi = collections.defaultdict(dict)\n",
    "tf_idf = collections.defaultdict(dict)\n",
    "k_means = collections.defaultdict(dict)\n",
    "\n",
    "threshold = [10,20,30]\n",
    "\n",
    "print(\"K-Means with improved tfidf(with n-gram, min_df, and sublinear_tf modifications)\")\n",
    "for i in threshold:\n",
    "    print(\"Threshold {}\".format(i))\n",
    "    for n_gram in possible_ngram:\n",
    "        tfidf = TfidfVectorizer(\n",
    "            stop_words = 'english', min_df = i, ngram_range = n_gram, sublinear_tf = True\n",
    "        )\n",
    "        text = tfidf.fit_transform(stemmed_df.sentence)\n",
    "        #representation[n_gram] = text\n",
    "\n",
    "        # Initialize the KMeans\n",
    "        clusters = KMeans(n_clusters=5, random_state = 42)\n",
    "        pred = clusters.fit_predict(text)\n",
    "\n",
    "        # Calculate NMI\n",
    "        nmi_average = normalized_mutual_info_score(ground_truth_labels, pred, average_method = \"geometric\")\n",
    "\n",
    "        nmi[i][n_gram] = nmi_average\n",
    "        k_means[i][n_gram] = clusters\n",
    "        tf_idf[i][n_gram] = tfidf\n",
    "\n",
    "        print(\"NMI {}: {}\".format(n_gram, round(nmi_average,4)))\n",
    "    print()"
   ]
  },
  {
   "cell_type": "markdown",
   "id": "9ccffb8d-7ef7-463e-acca-7e1fe6465c23",
   "metadata": {},
   "source": [
    "### Topic Inference"
   ]
  },
  {
   "cell_type": "markdown",
   "id": "724455c4-6019-47b8-bdd9-e0fe6615fe16",
   "metadata": {},
   "source": [
    "Below is an auxiliary function for getting the top keywords for each cluster. It is useful for inferring what is the topic of the cluster: "
   ]
  },
  {
   "cell_type": "code",
   "execution_count": 19,
   "id": "5923fff2-e91b-4263-869c-e8083d7ab96e",
   "metadata": {},
   "outputs": [],
   "source": [
    "df_freq = stemmed_df.copy()\n",
    "topic_1 = df_freq[df_freq[\"class\"] == 1]\n",
    "topic_2 = df_freq[df_freq[\"class\"] == 2]\n",
    "topic_3 = df_freq[df_freq[\"class\"] == 3]\n",
    "topic_4 = df_freq[df_freq[\"class\"] == 4]\n",
    "topic_5 = df_freq[df_freq[\"class\"] == 5]"
   ]
  },
  {
   "cell_type": "code",
   "execution_count": 20,
   "id": "cb399ef9-e744-41d9-9ee4-9f3fb6ee9b5d",
   "metadata": {},
   "outputs": [],
   "source": [
    "topic_1[\"sentence\"] = \"\"\n",
    "topic_2[\"sentence\"] = \"\"\n",
    "topic_3[\"sentence\"] = \"\"\n",
    "topic_4[\"sentence\"] = \"\"\n",
    "topic_5[\"sentence\"] = \"\""
   ]
  },
  {
   "cell_type": "code",
   "execution_count": 21,
   "id": "74e85ba5-7428-4663-9172-e1c1fa621b09",
   "metadata": {},
   "outputs": [],
   "source": [
    "for idx, row in topic_1.iterrows():\n",
    "    sentence = ' '.join(row.stemmed)\n",
    "    topic_1[\"sentence\"][idx] = sentence\n",
    "    \n",
    "for idx, row in topic_2.iterrows():\n",
    "    sentence = ' '.join(row.stemmed)\n",
    "    topic_2[\"sentence\"][idx] = sentence\n",
    "    \n",
    "for idx, row in topic_3.iterrows():\n",
    "    sentence = ' '.join(row.stemmed)\n",
    "    topic_3[\"sentence\"][idx] = sentence\n",
    "    \n",
    "for idx, row in topic_4.iterrows():\n",
    "    sentence = ' '.join(row.stemmed)\n",
    "    topic_4[\"sentence\"][idx] = sentence\n",
    "\n",
    "for idx, row in topic_5.iterrows():\n",
    "    sentence = ' '.join(row.stemmed)\n",
    "    topic_5[\"sentence\"][idx] = sentence"
   ]
  },
  {
   "cell_type": "code",
   "execution_count": 22,
   "id": "06faadf8-0bc5-47b5-af84-d83912f7bee1",
   "metadata": {},
   "outputs": [],
   "source": [
    "freq_count_1 = topic_1.sentence.str.split(expand=True).stack().value_counts()\n",
    "freq_count_2 = topic_2.sentence.str.split(expand=True).stack().value_counts()\n",
    "freq_count_3 = topic_3.sentence.str.split(expand=True).stack().value_counts()\n",
    "freq_count_4 = topic_4.sentence.str.split(expand=True).stack().value_counts()\n",
    "freq_count_5 = topic_5.sentence.str.split(expand=True).stack().value_counts()"
   ]
  },
  {
   "cell_type": "code",
   "execution_count": 23,
   "id": "e6853623-6051-4381-9451-b4d78fede608",
   "metadata": {},
   "outputs": [],
   "source": [
    "freq_count = [freq_count_1, freq_count_2, freq_count_3, freq_count_4, freq_count_5]"
   ]
  },
  {
   "cell_type": "code",
   "execution_count": 24,
   "id": "0f0d6d68-4c2e-4bc3-bd8b-598bb80ea2da",
   "metadata": {},
   "outputs": [
    {
     "name": "stdout",
     "output_type": "stream",
     "text": [
      "Top terms per cluster:\n",
      "Cluster 1:\n",
      "imag 632\n",
      "detect 446\n",
      "vision 383\n",
      "method 500\n",
      "learn 361\n",
      "deep 238\n",
      "base 511\n",
      "use 621\n",
      "model 425\n",
      "\n",
      "Cluster 2:\n",
      "databas 678\n",
      "relat 406\n",
      "data 609\n",
      "queri 272\n",
      "sql 107\n",
      "inform 195\n",
      "manag 114\n",
      "use 301\n",
      "model 227\n",
      "\n",
      "Cluster 3:\n",
      "robot 883\n",
      "control 325\n",
      "use 365\n",
      "task 167\n",
      "perform 213\n",
      "simul 118\n",
      "environ 128\n",
      "soft 116\n",
      "approach 156\n",
      "model 204\n",
      "\n",
      "Cluster 4:\n",
      "compil 1\n",
      "program 9\n",
      "languag 2\n",
      "code 35\n",
      "optim 60\n",
      "comput 208\n",
      "use 400\n",
      "graph 8\n",
      "implement 180\n",
      "parallel 12\n",
      "\n",
      "Cluster 5:\n",
      "secur 55\n",
      "encrypt 8\n",
      "cryptographi 4\n",
      "scheme 31\n",
      "key 23\n",
      "attack 9\n",
      "protocol 23\n",
      "propos 122\n",
      "quantum 149\n",
      "base 232\n",
      "\n"
     ]
    }
   ],
   "source": [
    "print(\"Top terms per cluster:\")\n",
    "order_centroids = k_means[20][1,2].cluster_centers_.argsort()[:, ::-1]\n",
    "terms = tf_idf[20][1,2].get_feature_names()\n",
    "\n",
    "\n",
    "for index,freq_count_df in enumerate(freq_count):\n",
    "    print(\"Cluster {}:\".format(index+1))\n",
    "    for ind in order_centroids[index, :10]:\n",
    "        # Extract the frequency of the words\n",
    "        word = terms[ind]\n",
    "        if word in [\"comput vision\", 'relat databas']:\n",
    "            continue\n",
    "        frequency = freq_count_df[word]\n",
    "        print('%s' % word, frequency)\n",
    "    print()"
   ]
  },
  {
   "cell_type": "code",
   "execution_count": 25,
   "id": "ca5aa9c9-fa40-427b-973b-53347b2fb2ae",
   "metadata": {},
   "outputs": [
    {
     "name": "stdout",
     "output_type": "stream",
     "text": [
      "Frequency of 2-gram comput vision: 160\n",
      "Frequency of 2-gram relat databas: 139\n"
     ]
    }
   ],
   "source": [
    "count_1 =collections.Counter()\n",
    "count_2 =collections.Counter()\n",
    "\n",
    "# For 2-gram \"comput vision\" term\n",
    "for i in topic_1.sentence:\n",
    "  x = i.rstrip().split(\" \")\n",
    "  count_1.update(set(zip(x[:-1],x[1:])))\n",
    "    \n",
    "print(\"Frequency of 2-gram comput vision:\", count_1[\"comput\", \"vision\"])\n",
    "\n",
    "# For 2-gram \"relat database\" term\n",
    "for i in topic_2.sentence:\n",
    "  x = i.rstrip().split(\" \")\n",
    "  count_2.update(set(zip(x[:-1],x[1:])))\n",
    "    \n",
    "print(\"Frequency of 2-gram relat databas:\", count_2[\"relat\", \"databas\"])"
   ]
  },
  {
   "cell_type": "markdown",
   "id": "668fec2b-0c09-48d0-864b-aee0d99989f8",
   "metadata": {},
   "source": [
    "## Agglomerative Hierarchical Clustering "
   ]
  },
  {
   "cell_type": "markdown",
   "id": "2094bca9-376c-4a33-9459-424cedde1747",
   "metadata": {},
   "source": [
    "### Naive Agglomerative Hierarchical Clustering"
   ]
  },
  {
   "cell_type": "code",
   "execution_count": 26,
   "id": "a0f781b4-6413-4faf-acf6-084bc4610f45",
   "metadata": {},
   "outputs": [
    {
     "name": "stdout",
     "output_type": "stream",
     "text": [
      "Naive Agglomerative Hierarchical Clustering with Ward linkage:\n",
      "NMI: 0.4347\n",
      "\n"
     ]
    }
   ],
   "source": [
    "ground_truth_labels = df[\"class\"]\n",
    "\n",
    "threshold = [10,15,20]\n",
    "\n",
    "print(\"Naive Agglomerative Hierarchical Clustering with Ward linkage:\")\n",
    "\n",
    "tfidf = TfidfVectorizer(\n",
    "    stop_words = 'english'\n",
    ")\n",
    "text = tfidf.fit_transform(stemmed_df.sentence)\n",
    "\n",
    "cluster = AgglomerativeClustering(n_clusters=5, affinity='euclidean', linkage='ward', compute_distances=True)\n",
    "predictions = cluster.fit_predict(text.toarray())\n",
    "\n",
    "nmi_average = normalized_mutual_info_score(ground_truth_labels, predictions, average_method = \"geometric\")\n",
    "nmi_average = round(nmi_average, 4)\n",
    "\n",
    "print(\"NMI: {}\".format(nmi_average))\n",
    "print()"
   ]
  },
  {
   "cell_type": "code",
   "execution_count": 28,
   "id": "85cde8a8-ffc8-4188-a3cc-47d3f996215e",
   "metadata": {},
   "outputs": [
    {
     "name": "stdout",
     "output_type": "stream",
     "text": [
      "Agglomerative Hierarchical Clustering with Ward linkage and with improved tfidf(with n-gram, min_df, and sublinear_tf modifications):\n",
      "Threshold 10\n",
      "NMI (1, 1): 0.5787\n",
      "NMI (1, 2): 0.5972\n",
      "NMI (1, 3): 0.6018\n",
      "NMI (2, 2): 0.2642\n",
      "NMI (2, 3): 0.2895\n",
      "NMI (3, 3): 0.1104\n",
      "\n",
      "Threshold 20\n",
      "NMI (1, 1): 0.6074\n",
      "NMI (1, 2): 0.6111\n",
      "NMI (1, 3): 0.614\n",
      "NMI (2, 2): 0.2241\n",
      "NMI (2, 3): 0.2341\n",
      "NMI (3, 3): 0.1679\n",
      "\n",
      "Threshold 30\n",
      "NMI (1, 1): 0.5827\n",
      "NMI (1, 2): 0.5672\n",
      "NMI (1, 3): 0.5913\n",
      "NMI (2, 2): 0.2575\n",
      "NMI (2, 3): 0.254\n",
      "NMI (3, 3): 0.1206\n",
      "\n"
     ]
    }
   ],
   "source": [
    "possible_ngram = [(1,1), (1,2), (1,3), (2,2), (2,3), (3,3)]\n",
    "ground_truth_labels = df[\"class\"]\n",
    "\n",
    "\n",
    "nmi = collections.defaultdict(dict)\n",
    "tf_idf = collections.defaultdict(dict)\n",
    "k_means = collections.defaultdict(dict)\n",
    "hierarchical = collections.defaultdict(dict)\n",
    "tfidf_matrix = collections.defaultdict(dict)\n",
    "\n",
    "threshold = [10,20,30]\n",
    "\n",
    "print(\"Agglomerative Hierarchical Clustering with Ward linkage and with improved tfidf(with n-gram, min_df, and sublinear_tf modifications):\")\n",
    "for i in threshold:\n",
    "    print(\"Threshold {}\".format(i))\n",
    "    for n_gram in possible_ngram:\n",
    "        tfidf = TfidfVectorizer(\n",
    "            stop_words = 'english', min_df = i, ngram_range = n_gram, sublinear_tf=True\n",
    "        )\n",
    "        text = tfidf.fit_transform(stemmed_df.sentence)\n",
    "\n",
    "        cluster = AgglomerativeClustering(n_clusters=5, affinity='euclidean', linkage='ward', compute_distances=True)\n",
    "        predictions = cluster.fit_predict(text.toarray())\n",
    "        \n",
    "        nmi_average = normalized_mutual_info_score(ground_truth_labels, predictions, average_method = \"geometric\")\n",
    "        nmi_average = round(nmi_average, 4)\n",
    "        #nmi_average = normalized_mutual_info_score(ground_truth_labels, clusters, average_method = \"geometric\")\n",
    "        nmi[i][n_gram] = nmi_average\n",
    "        #k_means[n_gram] = clusters\n",
    "        hierarchical[i][n_gram] = cluster\n",
    "        tf_idf[i][n_gram] = tfidf\n",
    "        tfidf_matrix[i][n_gram] = text\n",
    "            \n",
    "        print(\"NMI {}: {}\".format(n_gram, nmi_average))\n",
    "    print()"
   ]
  },
  {
   "cell_type": "code",
   "execution_count": 29,
   "id": "da2d5189-ed6e-4058-9004-01d72aa6468d",
   "metadata": {},
   "outputs": [],
   "source": [
    "def plot_dendrogram(model, **kwargs):\n",
    "    # Create linkage matrix and then plot the dendrogram\n",
    "\n",
    "    # create the counts of samples under each node\n",
    "    counts = np.zeros(model.children_.shape[0])\n",
    "    n_samples = len(model.labels_)\n",
    "    for i, merge in enumerate(model.children_):\n",
    "        current_count = 0\n",
    "        for child_idx in merge:\n",
    "            if child_idx < n_samples:\n",
    "                current_count += 1  # leaf node\n",
    "            else:\n",
    "                current_count += counts[child_idx - n_samples]\n",
    "        counts[i] = current_count\n",
    "\n",
    "    linkage_matrix = np.column_stack(\n",
    "        [model.children_, model.distances_, counts]\n",
    "    ).astype(float)\n",
    "\n",
    "    # Plot the corresponding dendrogram\n",
    "    dendrogram(linkage_matrix, **kwargs)"
   ]
  },
  {
   "cell_type": "code",
   "execution_count": 30,
   "id": "4458bf99-77ef-414e-946c-45cd25984fc3",
   "metadata": {},
   "outputs": [
    {
     "data": {
      "image/png": "[encoded data removed]",
      "text/plain": [
       "<Figure size 1200x800 with 1 Axes>"
      ]
     },
     "metadata": {
      "needs_background": "light"
     },
     "output_type": "display_data"
    }
   ],
   "source": [
    "from matplotlib.pyplot import figure\n",
    "from scipy.cluster.hierarchy import ward, dendrogram\n",
    "import matplotlib.pyplot as plt\n",
    "\n",
    "figure(figsize=(15, 10), dpi=80)\n",
    "best_nmi_hierarchical = hierarchical[20][1,3]\n",
    "\n",
    "plt.title(\"Hierarchical Clustering Dendrogram\")\n",
    "plot_dendrogram(best_nmi_hierarchical, truncate_mode=\"level\", p=3)\n",
    "plt.xlabel(\"indexes\")\n",
    "plt.show()"
   ]
  },
  {
   "cell_type": "code",
   "execution_count": 31,
   "id": "462ed515-07f3-4ab8-a31b-6da5ddeb3fe5",
   "metadata": {},
   "outputs": [],
   "source": [
    "result = df.copy()\n",
    "result = result[[\"id\",\"class\",\"TitleWithAbstract\"]]"
   ]
  },
  {
   "cell_type": "code",
   "execution_count": 32,
   "id": "55895011-984d-4c72-a524-b9f763c2332d",
   "metadata": {},
   "outputs": [
    {
     "data": {
      "text/html": [
       "<div>\n",
       "<style scoped>\n",
       "    .dataframe tbody tr th:only-of-type {\n",
       "        vertical-align: middle;\n",
       "    }\n",
       "\n",
       "    .dataframe tbody tr th {\n",
       "        vertical-align: top;\n",
       "    }\n",
       "\n",
       "    .dataframe thead th {\n",
       "        text-align: right;\n",
       "    }\n",
       "</style>\n",
       "<table border=\"1\" class=\"dataframe\">\n",
       "  <thead>\n",
       "    <tr style=\"text-align: right;\">\n",
       "      <th></th>\n",
       "      <th>id</th>\n",
       "      <th>class</th>\n",
       "      <th>TitleWithAbstract</th>\n",
       "    </tr>\n",
       "  </thead>\n",
       "  <tbody>\n",
       "    <tr>\n",
       "      <th>8</th>\n",
       "      <td>id10</td>\n",
       "      <td>3</td>\n",
       "      <td>mask then classify: multi-instance segmentatio...</td>\n",
       "    </tr>\n",
       "    <tr>\n",
       "      <th>18</th>\n",
       "      <td>id20</td>\n",
       "      <td>1</td>\n",
       "      <td>attention monitoring for synchronous distance ...</td>\n",
       "    </tr>\n",
       "    <tr>\n",
       "      <th>12</th>\n",
       "      <td>id14</td>\n",
       "      <td>5</td>\n",
       "      <td>partial flow sensitivity compiler optimization...</td>\n",
       "    </tr>\n",
       "    <tr>\n",
       "      <th>147</th>\n",
       "      <td>id149</td>\n",
       "      <td>2</td>\n",
       "      <td>online tourism system for proposals formation ...</td>\n",
       "    </tr>\n",
       "    <tr>\n",
       "      <th>62</th>\n",
       "      <td>id64</td>\n",
       "      <td>2</td>\n",
       "      <td>moving recursion out of the rdbms for transact...</td>\n",
       "    </tr>\n",
       "    <tr>\n",
       "      <th>102</th>\n",
       "      <td>id104</td>\n",
       "      <td>4</td>\n",
       "      <td>quantum search for scaled hash function preima...</td>\n",
       "    </tr>\n",
       "    <tr>\n",
       "      <th>41</th>\n",
       "      <td>id43</td>\n",
       "      <td>3</td>\n",
       "      <td>coordinate ascent more with adaptive entropy c...</td>\n",
       "    </tr>\n",
       "    <tr>\n",
       "      <th>175</th>\n",
       "      <td>id177</td>\n",
       "      <td>1</td>\n",
       "      <td>effect of loss functions on domain adaptation ...</td>\n",
       "    </tr>\n",
       "    <tr>\n",
       "      <th>24</th>\n",
       "      <td>id26</td>\n",
       "      <td>2</td>\n",
       "      <td>centralized clinical trial imaging data manage...</td>\n",
       "    </tr>\n",
       "    <tr>\n",
       "      <th>83</th>\n",
       "      <td>id85</td>\n",
       "      <td>2</td>\n",
       "      <td>managing technical debt in database normalizat...</td>\n",
       "    </tr>\n",
       "    <tr>\n",
       "      <th>65</th>\n",
       "      <td>id67</td>\n",
       "      <td>2</td>\n",
       "      <td>a method for transforming object-relational to...</td>\n",
       "    </tr>\n",
       "    <tr>\n",
       "      <th>73</th>\n",
       "      <td>id75</td>\n",
       "      <td>1</td>\n",
       "      <td>vehicle detection through instance segmentatio...</td>\n",
       "    </tr>\n",
       "    <tr>\n",
       "      <th>92</th>\n",
       "      <td>id94</td>\n",
       "      <td>3</td>\n",
       "      <td>pd tracking for a class of underactuated robot...</td>\n",
       "    </tr>\n",
       "    <tr>\n",
       "      <th>142</th>\n",
       "      <td>id144</td>\n",
       "      <td>1</td>\n",
       "      <td>comparative analysis of cnn and viola-jones fo...</td>\n",
       "    </tr>\n",
       "    <tr>\n",
       "      <th>31</th>\n",
       "      <td>id33</td>\n",
       "      <td>1</td>\n",
       "      <td>followupar: enabling follow-up effects in mobi...</td>\n",
       "    </tr>\n",
       "    <tr>\n",
       "      <th>256</th>\n",
       "      <td>id258</td>\n",
       "      <td>1</td>\n",
       "      <td>two-stage deep learning model for fully automa...</td>\n",
       "    </tr>\n",
       "  </tbody>\n",
       "</table>\n",
       "</div>"
      ],
      "text/plain": [
       "        id  class                                  TitleWithAbstract\n",
       "8     id10      3  mask then classify: multi-instance segmentatio...\n",
       "18    id20      1  attention monitoring for synchronous distance ...\n",
       "12    id14      5  partial flow sensitivity compiler optimization...\n",
       "147  id149      2  online tourism system for proposals formation ...\n",
       "62    id64      2  moving recursion out of the rdbms for transact...\n",
       "102  id104      4  quantum search for scaled hash function preima...\n",
       "41    id43      3  coordinate ascent more with adaptive entropy c...\n",
       "175  id177      1  effect of loss functions on domain adaptation ...\n",
       "24    id26      2  centralized clinical trial imaging data manage...\n",
       "83    id85      2  managing technical debt in database normalizat...\n",
       "65    id67      2  a method for transforming object-relational to...\n",
       "73    id75      1  vehicle detection through instance segmentatio...\n",
       "92    id94      3  pd tracking for a class of underactuated robot...\n",
       "142  id144      1  comparative analysis of cnn and viola-jones fo...\n",
       "31    id33      1  followupar: enabling follow-up effects in mobi...\n",
       "256  id258      1  two-stage deep learning model for fully automa..."
      ]
     },
     "execution_count": 32,
     "metadata": {},
     "output_type": "execute_result"
    }
   ],
   "source": [
    "result.iloc[[8,18,12,147,62,102,41,175,24,83,65,73,92,142,31,256],:]"
   ]
  }
 ],
 "metadata": {
  "kernelspec": {
   "display_name": "Python 3",
   "language": "python",
   "name": "python3"
  },
  "language_info": {
   "codemirror_mode": {
    "name": "ipython",
    "version": 3
   },
   "file_extension": ".py",
   "mimetype": "text/x-python",
   "name": "python",
   "nbconvert_exporter": "python",
   "pygments_lexer": "ipython3",
   "version": "3.8.8"
  }
 },
 "nbformat": 4,
 "nbformat_minor": 5
}
